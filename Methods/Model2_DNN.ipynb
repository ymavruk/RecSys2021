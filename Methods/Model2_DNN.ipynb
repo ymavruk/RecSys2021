{
  "nbformat": 4,
  "nbformat_minor": 5,
  "metadata": {
    "kernelspec": {
      "display_name": "Python 3 (ipykernel)",
      "language": "python",
      "name": "python3"
    },
    "language_info": {
      "codemirror_mode": {
        "name": "ipython",
        "version": 3
      },
      "file_extension": ".py",
      "mimetype": "text/x-python",
      "name": "python",
      "nbconvert_exporter": "python",
      "pygments_lexer": "ipython3",
      "version": "3.8.5"
    },
    "colab": {
      "name": "Model2_DNN.ipynb",
      "provenance": [],
      "collapsed_sections": []
    },
    "accelerator": "GPU"
  },
  "cells": [
    {
      "cell_type": "code",
      "metadata": {
        "id": "1aa214f1-79c1-470a-ae17-f1bb9061f20c"
      },
      "source": [
        "import numpy as np\n",
        "import pandas as pd\n",
        "import os\n",
        "import warnings\n",
        "from keras.models import load_model\n",
        "from sklearn.model_selection import train_test_split\n",
        "from keras.layers import Input, Embedding, Flatten, Dot, Dense, Concatenate, merge, Dropout, BatchNormalization\n",
        "from keras.models import Model\n",
        "from tensorflow.keras.utils import plot_model\n",
        "from IPython.display import SVG\n",
        "warnings.filterwarnings('ignore')\n",
        "%matplotlib inline"
      ],
      "id": "1aa214f1-79c1-470a-ae17-f1bb9061f20c",
      "execution_count": 26,
      "outputs": []
    },
    {
      "cell_type": "code",
      "metadata": {
        "colab": {
          "base_uri": "https://localhost:8080/"
        },
        "id": "G03TLUJVWTqz",
        "outputId": "29ae22bd-311f-4028-9fbb-d4cad1e15164"
      },
      "source": [
        "from google.colab import drive\n",
        "drive.mount('/content/drive')"
      ],
      "id": "G03TLUJVWTqz",
      "execution_count": 27,
      "outputs": [
        {
          "output_type": "stream",
          "name": "stdout",
          "text": [
            "Drive already mounted at /content/drive; to attempt to forcibly remount, call drive.mount(\"/content/drive\", force_remount=True).\n"
          ]
        }
      ]
    },
    {
      "cell_type": "code",
      "metadata": {
        "colab": {
          "base_uri": "https://localhost:8080/",
          "height": 206
        },
        "id": "b69d4b7e-b6b8-4e0f-b5ea-4b3e01f31329",
        "outputId": "c0a417f1-9435-461f-92fe-d39e16e00a03"
      },
      "source": [
        "csvPath = \"/content/drive/MyDrive/RecSys/dataWithRatings.csv\"\n",
        "df = pd.read_csv(csvPath)\n",
        "df1 = df[['user_id', 'name', 'Rating M1']].copy()\n",
        "\n",
        "df1.rename(columns = {df1.columns[2]:'rating1'}, inplace=True)\n",
        "df1['game_id'] = df.groupby(['name']).ngroup()\n",
        "df1['gamer_id'] = df.groupby(['user_id']).ngroup()\n",
        "df1_toTrain = df1.copy().drop(columns={'name','user_id'})\n",
        "df1_toTrain.head()"
      ],
      "id": "b69d4b7e-b6b8-4e0f-b5ea-4b3e01f31329",
      "execution_count": 28,
      "outputs": [
        {
          "output_type": "execute_result",
          "data": {
            "text/html": [
              "<div>\n",
              "<style scoped>\n",
              "    .dataframe tbody tr th:only-of-type {\n",
              "        vertical-align: middle;\n",
              "    }\n",
              "\n",
              "    .dataframe tbody tr th {\n",
              "        vertical-align: top;\n",
              "    }\n",
              "\n",
              "    .dataframe thead th {\n",
              "        text-align: right;\n",
              "    }\n",
              "</style>\n",
              "<table border=\"1\" class=\"dataframe\">\n",
              "  <thead>\n",
              "    <tr style=\"text-align: right;\">\n",
              "      <th></th>\n",
              "      <th>rating1</th>\n",
              "      <th>game_id</th>\n",
              "      <th>gamer_id</th>\n",
              "    </tr>\n",
              "  </thead>\n",
              "  <tbody>\n",
              "    <tr>\n",
              "      <th>0</th>\n",
              "      <td>5</td>\n",
              "      <td>469</td>\n",
              "      <td>3878</td>\n",
              "    </tr>\n",
              "    <tr>\n",
              "      <th>1</th>\n",
              "      <td>5</td>\n",
              "      <td>469</td>\n",
              "      <td>1652</td>\n",
              "    </tr>\n",
              "    <tr>\n",
              "      <th>2</th>\n",
              "      <td>1</td>\n",
              "      <td>469</td>\n",
              "      <td>337</td>\n",
              "    </tr>\n",
              "    <tr>\n",
              "      <th>3</th>\n",
              "      <td>3</td>\n",
              "      <td>469</td>\n",
              "      <td>6663</td>\n",
              "    </tr>\n",
              "    <tr>\n",
              "      <th>4</th>\n",
              "      <td>1</td>\n",
              "      <td>469</td>\n",
              "      <td>2534</td>\n",
              "    </tr>\n",
              "  </tbody>\n",
              "</table>\n",
              "</div>"
            ],
            "text/plain": [
              "   rating1  game_id  gamer_id\n",
              "0        5      469      3878\n",
              "1        5      469      1652\n",
              "2        1      469       337\n",
              "3        3      469      6663\n",
              "4        1      469      2534"
            ]
          },
          "metadata": {},
          "execution_count": 28
        }
      ]
    },
    {
      "cell_type": "code",
      "metadata": {
        "id": "f1199306-1f2e-43ed-9bd6-df8c3aef6d3d"
      },
      "source": [
        "train, test = train_test_split(df1_toTrain, test_size=0.85, random_state=0)"
      ],
      "id": "f1199306-1f2e-43ed-9bd6-df8c3aef6d3d",
      "execution_count": 29,
      "outputs": []
    },
    {
      "cell_type": "code",
      "metadata": {
        "colab": {
          "base_uri": "https://localhost:8080/"
        },
        "id": "0yxZtSXqXnF_",
        "outputId": "96205735-dc69-413c-8714-a65e2e4e3e88"
      },
      "source": [
        "print(df1_toTrain.shape)"
      ],
      "id": "0yxZtSXqXnF_",
      "execution_count": 30,
      "outputs": [
        {
          "output_type": "stream",
          "name": "stdout",
          "text": [
            "(36257, 3)\n"
          ]
        }
      ]
    },
    {
      "cell_type": "code",
      "metadata": {
        "colab": {
          "base_uri": "https://localhost:8080/"
        },
        "id": "f768d462-c469-423a-80cb-0960be574cfd",
        "outputId": "a2061190-64b2-4e16-93a0-4b660abcbf2f"
      },
      "source": [
        "n_items = int(df1_toTrain['game_id'].max())\n",
        "n_users = int(df1_toTrain['gamer_id'].max())\n",
        "print(n_items)\n",
        "print(n_users)"
      ],
      "id": "f768d462-c469-423a-80cb-0960be574cfd",
      "execution_count": 31,
      "outputs": [
        {
          "output_type": "stream",
          "name": "stdout",
          "text": [
            "1514\n",
            "9253\n"
          ]
        }
      ]
    },
    {
      "cell_type": "code",
      "metadata": {
        "id": "a4604e89-bd92-4b7c-a731-5bd8abc7fbc9"
      },
      "source": [
        "latent_dim = 50\n",
        "# Define inputs\n",
        "game_input = Input(shape=[1],name='game-input')\n",
        "user_input = Input(shape=[1], name='user-input')\n",
        "# MLP Embeddings\n",
        "game_embedding_mlp = Embedding(n_items + 1, latent_dim, name='game-embedding-mlp')(game_input)\n",
        "game_vec_mlp = Flatten(name='flatten-game-mlp')(game_embedding_mlp)\n",
        "user_embedding_mlp = Embedding(n_users + 1, latent_dim, name='user-embedding-mlp')(user_input)\n",
        "user_vec_mlp = Flatten(name='flatten-user-mlp')(user_embedding_mlp)\n",
        "# MF Embeddings\n",
        "game_embedding_mf = Embedding(n_items + 1, latent_dim, name='game-embedding-mf')(game_input)\n",
        "game_vec_mf = Flatten(name='flatten-game-mf')(game_embedding_mf)\n",
        "user_embedding_mf = Embedding(n_users + 1, latent_dim, name='user-embedding-mf')(user_input)\n",
        "user_vec_mf = Flatten(name='flatten-user-mf')(user_embedding_mf)\n",
        "\n",
        "concat = merge.concatenate([game_vec_mlp, user_vec_mlp], name='concat')\n",
        "concat_dropout = Dropout(0.2)(concat)\n",
        "\n",
        "fc_1 = Dense(100, name='fc-1', activation='relu')(concat_dropout)\n",
        "fc_1_bn = BatchNormalization(name='batch-norm-1')(fc_1)\n",
        "fc_1_dropout = Dropout(0.2)(fc_1_bn)\n",
        "fc_2 = Dense(50, name='fc-2', activation='relu')(fc_1_dropout)\n",
        "fc_2_bn = BatchNormalization(name='batch-norm-2')(fc_2)\n",
        "fc_2_dropout = Dropout(0.2)(fc_2_bn)\n",
        "# Prediction from both layers\n",
        "pred_mlp = Dense(10, name='pred-mlp', activation='relu')(fc_2_dropout)\n",
        "pred_mf = merge.dot(inputs=[game_vec_mf, user_vec_mf], axes = 1, name='pred-mf')\n",
        "combine_mlp_mf = merge.concatenate([pred_mf, pred_mlp], name='combine-mlp-mf')\n",
        "# Final prediction\n",
        "result = Dense(1, name='result', activation='relu')(combine_mlp_mf)\n",
        "model = Model([user_input, game_input], result)\n",
        "model.compile('adam', 'mean_squared_error')\n"
      ],
      "id": "a4604e89-bd92-4b7c-a731-5bd8abc7fbc9",
      "execution_count": 38,
      "outputs": []
    },
    {
      "cell_type": "code",
      "metadata": {
        "id": "MeJ-wAwgqrU9"
      },
      "source": [
        ""
      ],
      "id": "MeJ-wAwgqrU9",
      "execution_count": null,
      "outputs": []
    },
    {
      "cell_type": "code",
      "metadata": {
        "colab": {
          "base_uri": "https://localhost:8080/"
        },
        "id": "6ec97c0a-2cc4-48a2-b656-1105dc322e62",
        "outputId": "353fd09d-26e6-4cf1-abf7-85dc26653210"
      },
      "source": [
        "history = model.fit([train.gamer_id, train.game_id], train.rating1, epochs=100, verbose=1)"
      ],
      "id": "6ec97c0a-2cc4-48a2-b656-1105dc322e62",
      "execution_count": 39,
      "outputs": [
        {
          "output_type": "stream",
          "name": "stdout",
          "text": [
            "Epoch 1/100\n",
            "170/170 [==============================] - 3s 8ms/step - loss: 5.0278\n",
            "Epoch 2/100\n",
            "170/170 [==============================] - 1s 8ms/step - loss: 2.6641\n",
            "Epoch 3/100\n",
            "170/170 [==============================] - 1s 8ms/step - loss: 2.0676\n",
            "Epoch 4/100\n",
            "170/170 [==============================] - 1s 8ms/step - loss: 1.4813\n",
            "Epoch 5/100\n",
            "170/170 [==============================] - 1s 8ms/step - loss: 0.9917\n",
            "Epoch 6/100\n",
            "170/170 [==============================] - 1s 8ms/step - loss: 0.6873\n",
            "Epoch 7/100\n",
            "170/170 [==============================] - 1s 8ms/step - loss: 0.4794\n",
            "Epoch 8/100\n",
            "170/170 [==============================] - 1s 8ms/step - loss: 0.3856\n",
            "Epoch 9/100\n",
            "170/170 [==============================] - 1s 9ms/step - loss: 0.3103\n",
            "Epoch 10/100\n",
            "170/170 [==============================] - 1s 8ms/step - loss: 0.2751\n",
            "Epoch 11/100\n",
            "170/170 [==============================] - 1s 8ms/step - loss: 0.2436\n",
            "Epoch 12/100\n",
            "170/170 [==============================] - 1s 9ms/step - loss: 0.2051\n",
            "Epoch 13/100\n",
            "170/170 [==============================] - 1s 8ms/step - loss: 0.1820\n",
            "Epoch 14/100\n",
            "170/170 [==============================] - 1s 8ms/step - loss: 0.1650\n",
            "Epoch 15/100\n",
            "170/170 [==============================] - 1s 8ms/step - loss: 0.1479\n",
            "Epoch 16/100\n",
            "170/170 [==============================] - 1s 8ms/step - loss: 0.1380\n",
            "Epoch 17/100\n",
            "170/170 [==============================] - 1s 8ms/step - loss: 0.1277\n",
            "Epoch 18/100\n",
            "170/170 [==============================] - 1s 8ms/step - loss: 0.1179\n",
            "Epoch 19/100\n",
            "170/170 [==============================] - 1s 8ms/step - loss: 0.1067\n",
            "Epoch 20/100\n",
            "170/170 [==============================] - 1s 8ms/step - loss: 0.0963\n",
            "Epoch 21/100\n",
            "170/170 [==============================] - 1s 8ms/step - loss: 0.0919\n",
            "Epoch 22/100\n",
            "170/170 [==============================] - 1s 8ms/step - loss: 0.0884\n",
            "Epoch 23/100\n",
            "170/170 [==============================] - 1s 8ms/step - loss: 0.0785\n",
            "Epoch 24/100\n",
            "170/170 [==============================] - 1s 8ms/step - loss: 0.0739\n",
            "Epoch 25/100\n",
            "170/170 [==============================] - 1s 8ms/step - loss: 0.0690\n",
            "Epoch 26/100\n",
            "170/170 [==============================] - 1s 9ms/step - loss: 0.0674\n",
            "Epoch 27/100\n",
            "170/170 [==============================] - 1s 8ms/step - loss: 0.0582\n",
            "Epoch 28/100\n",
            "170/170 [==============================] - 1s 8ms/step - loss: 0.0547\n",
            "Epoch 29/100\n",
            "170/170 [==============================] - 1s 8ms/step - loss: 0.0545\n",
            "Epoch 30/100\n",
            "170/170 [==============================] - 1s 8ms/step - loss: 0.0497\n",
            "Epoch 31/100\n",
            "170/170 [==============================] - 1s 8ms/step - loss: 0.0467\n",
            "Epoch 32/100\n",
            "170/170 [==============================] - 1s 8ms/step - loss: 0.0446\n",
            "Epoch 33/100\n",
            "170/170 [==============================] - 1s 8ms/step - loss: 0.0418\n",
            "Epoch 34/100\n",
            "170/170 [==============================] - 1s 8ms/step - loss: 0.0366\n",
            "Epoch 35/100\n",
            "170/170 [==============================] - 1s 8ms/step - loss: 0.0360\n",
            "Epoch 36/100\n",
            "170/170 [==============================] - 1s 8ms/step - loss: 0.0325\n",
            "Epoch 37/100\n",
            "170/170 [==============================] - 1s 8ms/step - loss: 0.0292\n",
            "Epoch 38/100\n",
            "170/170 [==============================] - 1s 8ms/step - loss: 0.0276\n",
            "Epoch 39/100\n",
            "170/170 [==============================] - 1s 8ms/step - loss: 0.0260\n",
            "Epoch 40/100\n",
            "170/170 [==============================] - 1s 9ms/step - loss: 0.0263\n",
            "Epoch 41/100\n",
            "170/170 [==============================] - 1s 8ms/step - loss: 0.0242\n",
            "Epoch 42/100\n",
            "170/170 [==============================] - 1s 8ms/step - loss: 0.0214\n",
            "Epoch 43/100\n",
            "170/170 [==============================] - 1s 8ms/step - loss: 0.0209\n",
            "Epoch 44/100\n",
            "170/170 [==============================] - 1s 8ms/step - loss: 0.0199\n",
            "Epoch 45/100\n",
            "170/170 [==============================] - 1s 8ms/step - loss: 0.0200\n",
            "Epoch 46/100\n",
            "170/170 [==============================] - 1s 8ms/step - loss: 0.0197\n",
            "Epoch 47/100\n",
            "170/170 [==============================] - 1s 8ms/step - loss: 0.0182\n",
            "Epoch 48/100\n",
            "170/170 [==============================] - 1s 8ms/step - loss: 0.0170\n",
            "Epoch 49/100\n",
            "170/170 [==============================] - 1s 8ms/step - loss: 0.0174\n",
            "Epoch 50/100\n",
            "170/170 [==============================] - 1s 8ms/step - loss: 0.0161\n",
            "Epoch 51/100\n",
            "170/170 [==============================] - 1s 8ms/step - loss: 0.0161\n",
            "Epoch 52/100\n",
            "170/170 [==============================] - 1s 8ms/step - loss: 0.0166\n",
            "Epoch 53/100\n",
            "170/170 [==============================] - 1s 8ms/step - loss: 0.0165\n",
            "Epoch 54/100\n",
            "170/170 [==============================] - 1s 8ms/step - loss: 0.0162\n",
            "Epoch 55/100\n",
            "170/170 [==============================] - 1s 8ms/step - loss: 0.0164\n",
            "Epoch 56/100\n",
            "170/170 [==============================] - 1s 8ms/step - loss: 0.0157\n",
            "Epoch 57/100\n",
            "170/170 [==============================] - 1s 8ms/step - loss: 0.0149\n",
            "Epoch 58/100\n",
            "170/170 [==============================] - 1s 9ms/step - loss: 0.0145\n",
            "Epoch 59/100\n",
            "170/170 [==============================] - 1s 9ms/step - loss: 0.0141\n",
            "Epoch 60/100\n",
            "170/170 [==============================] - 1s 8ms/step - loss: 0.0137\n",
            "Epoch 61/100\n",
            "170/170 [==============================] - 1s 8ms/step - loss: 0.0137\n",
            "Epoch 62/100\n",
            "170/170 [==============================] - 1s 8ms/step - loss: 0.0135\n",
            "Epoch 63/100\n",
            "170/170 [==============================] - 1s 8ms/step - loss: 0.0134\n",
            "Epoch 64/100\n",
            "170/170 [==============================] - 1s 8ms/step - loss: 0.0131\n",
            "Epoch 65/100\n",
            "170/170 [==============================] - 1s 8ms/step - loss: 0.0135\n",
            "Epoch 66/100\n",
            "170/170 [==============================] - 1s 9ms/step - loss: 0.0132\n",
            "Epoch 67/100\n",
            "170/170 [==============================] - 1s 8ms/step - loss: 0.0135\n",
            "Epoch 68/100\n",
            "170/170 [==============================] - 1s 8ms/step - loss: 0.0133\n",
            "Epoch 69/100\n",
            "170/170 [==============================] - 1s 8ms/step - loss: 0.0124\n",
            "Epoch 70/100\n",
            "170/170 [==============================] - 1s 8ms/step - loss: 0.0122\n",
            "Epoch 71/100\n",
            "170/170 [==============================] - 1s 8ms/step - loss: 0.0124\n",
            "Epoch 72/100\n",
            "170/170 [==============================] - 1s 8ms/step - loss: 0.0123\n",
            "Epoch 73/100\n",
            "170/170 [==============================] - 1s 9ms/step - loss: 0.0124\n",
            "Epoch 74/100\n",
            "170/170 [==============================] - 1s 8ms/step - loss: 0.0123\n",
            "Epoch 75/100\n",
            "170/170 [==============================] - 1s 8ms/step - loss: 0.0117\n",
            "Epoch 76/100\n",
            "170/170 [==============================] - 1s 8ms/step - loss: 0.0113\n",
            "Epoch 77/100\n",
            "170/170 [==============================] - 1s 8ms/step - loss: 0.0115\n",
            "Epoch 78/100\n",
            "170/170 [==============================] - 1s 8ms/step - loss: 0.0118\n",
            "Epoch 79/100\n",
            "170/170 [==============================] - 1s 9ms/step - loss: 0.0121\n",
            "Epoch 80/100\n",
            "170/170 [==============================] - 1s 8ms/step - loss: 0.0117\n",
            "Epoch 81/100\n",
            "170/170 [==============================] - 1s 8ms/step - loss: 0.0115\n",
            "Epoch 82/100\n",
            "170/170 [==============================] - 1s 8ms/step - loss: 0.0117\n",
            "Epoch 83/100\n",
            "170/170 [==============================] - 1s 8ms/step - loss: 0.0111\n",
            "Epoch 84/100\n",
            "170/170 [==============================] - 1s 8ms/step - loss: 0.0108\n",
            "Epoch 85/100\n",
            "170/170 [==============================] - 1s 9ms/step - loss: 0.0107\n",
            "Epoch 86/100\n",
            "170/170 [==============================] - 1s 9ms/step - loss: 0.0109\n",
            "Epoch 87/100\n",
            "170/170 [==============================] - 1s 9ms/step - loss: 0.0107\n",
            "Epoch 88/100\n",
            "170/170 [==============================] - 1s 9ms/step - loss: 0.0109\n",
            "Epoch 89/100\n",
            "170/170 [==============================] - 1s 8ms/step - loss: 0.0105\n",
            "Epoch 90/100\n",
            "170/170 [==============================] - 1s 8ms/step - loss: 0.0102\n",
            "Epoch 91/100\n",
            "170/170 [==============================] - 1s 8ms/step - loss: 0.0100\n",
            "Epoch 92/100\n",
            "170/170 [==============================] - 1s 8ms/step - loss: 0.0101\n",
            "Epoch 93/100\n",
            "170/170 [==============================] - 1s 8ms/step - loss: 0.0103\n",
            "Epoch 94/100\n",
            "170/170 [==============================] - 1s 9ms/step - loss: 0.0103\n",
            "Epoch 95/100\n",
            "170/170 [==============================] - 1s 9ms/step - loss: 0.0102\n",
            "Epoch 96/100\n",
            "170/170 [==============================] - 1s 8ms/step - loss: 0.0100\n",
            "Epoch 97/100\n",
            "170/170 [==============================] - 1s 8ms/step - loss: 0.0097\n",
            "Epoch 98/100\n",
            "170/170 [==============================] - 1s 8ms/step - loss: 0.0095\n",
            "Epoch 99/100\n",
            "170/170 [==============================] - 1s 8ms/step - loss: 0.0099\n",
            "Epoch 100/100\n",
            "170/170 [==============================] - 1s 9ms/step - loss: 0.0101\n"
          ]
        }
      ]
    },
    {
      "cell_type": "code",
      "metadata": {
        "colab": {
          "base_uri": "https://localhost:8080/"
        },
        "id": "17f95a38-0905-42a7-b3d3-3a4dd8854fc5",
        "outputId": "0f9b0e80-c664-4749-8c7f-0651e8309397"
      },
      "source": [
        "predictions = model2.predict([test.gamer_id.head(10), test.game_id.head(10)])\n",
        "[print(predictions[i], test.rating1.iloc[i]) for i in range(0,10)]"
      ],
      "id": "17f95a38-0905-42a7-b3d3-3a4dd8854fc5",
      "execution_count": 40,
      "outputs": [
        {
          "output_type": "stream",
          "name": "stdout",
          "text": [
            "[1.7058425] 5\n",
            "[2.8365474] 4\n",
            "[2.6905427] 5\n",
            "[2.9112248] 5\n",
            "[1.060725] 1\n",
            "[0.756301] 1\n",
            "[4.026786] 1\n",
            "[1.0482664] 5\n",
            "[2.0014212] 5\n",
            "[1.9707394] 1\n"
          ]
        },
        {
          "output_type": "execute_result",
          "data": {
            "text/plain": [
              "[None, None, None, None, None, None, None, None, None, None]"
            ]
          },
          "metadata": {},
          "execution_count": 40
        }
      ]
    },
    {
      "cell_type": "code",
      "metadata": {
        "colab": {
          "base_uri": "https://localhost:8080/"
        },
        "id": "376h8ReBdkH3",
        "outputId": "c6978499-1144-41e8-a5f2-00c7e2d25a8d"
      },
      "source": [
        "results = model2.evaluate([test.gamer_id, test.game_id], test.rating1)"
      ],
      "id": "376h8ReBdkH3",
      "execution_count": 41,
      "outputs": [
        {
          "output_type": "stream",
          "name": "stdout",
          "text": [
            "964/964 [==============================] - 2s 3ms/step - loss: 4.4467\n"
          ]
        }
      ]
    }
  ]
}