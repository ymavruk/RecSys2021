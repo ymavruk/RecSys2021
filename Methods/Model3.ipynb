{
 "cells": [
  {
   "cell_type": "markdown",
   "metadata": {},
   "source": [
    "### Content based approach wtih Doc2Vec"
   ]
  },
  {
   "cell_type": "code",
   "execution_count": 2,
   "metadata": {},
   "outputs": [],
   "source": [
    "# importing required libraries\n",
    "import numpy as np\n",
    "import pandas as pd\n",
    "import gensim\n",
    "from gensim.models.doc2vec import Doc2Vec, TaggedDocument"
   ]
  },
  {
   "cell_type": "code",
   "execution_count": 3,
   "metadata": {},
   "outputs": [],
   "source": [
    "# get the data and create a dataframe\n",
    "csvPath = \"../Datasets/dataWithRatings.csv\"\n",
    "df = pd.read_csv (csvPath)\n",
    "df = df[df[\"popular_tags\"].notna()].reset_index(drop=True)"
   ]
  },
  {
   "cell_type": "markdown",
   "metadata": {},
   "source": [
    "Selecting Random User"
   ]
  },
  {
   "cell_type": "code",
   "execution_count": 4,
   "metadata": {},
   "outputs": [
    {
     "data": {
      "text/html": [
       "<div>\n",
       "<style scoped>\n",
       "    .dataframe tbody tr th:only-of-type {\n",
       "        vertical-align: middle;\n",
       "    }\n",
       "\n",
       "    .dataframe tbody tr th {\n",
       "        vertical-align: top;\n",
       "    }\n",
       "\n",
       "    .dataframe thead th {\n",
       "        text-align: right;\n",
       "    }\n",
       "</style>\n",
       "<table border=\"1\" class=\"dataframe\">\n",
       "  <thead>\n",
       "    <tr style=\"text-align: right;\">\n",
       "      <th></th>\n",
       "      <th>user_id</th>\n",
       "      <th>sum</th>\n",
       "    </tr>\n",
       "  </thead>\n",
       "  <tbody>\n",
       "    <tr>\n",
       "      <th>0</th>\n",
       "      <td>151603712</td>\n",
       "      <td>134.5</td>\n",
       "    </tr>\n",
       "    <tr>\n",
       "      <th>1</th>\n",
       "      <td>87445402</td>\n",
       "      <td>87.7</td>\n",
       "    </tr>\n",
       "    <tr>\n",
       "      <th>2</th>\n",
       "      <td>25096601</td>\n",
       "      <td>208.0</td>\n",
       "    </tr>\n",
       "    <tr>\n",
       "      <th>3</th>\n",
       "      <td>211925330</td>\n",
       "      <td>848.0</td>\n",
       "    </tr>\n",
       "    <tr>\n",
       "      <th>4</th>\n",
       "      <td>115396529</td>\n",
       "      <td>365.7</td>\n",
       "    </tr>\n",
       "    <tr>\n",
       "      <th>...</th>\n",
       "      <td>...</td>\n",
       "      <td>...</td>\n",
       "    </tr>\n",
       "    <tr>\n",
       "      <th>36175</th>\n",
       "      <td>154230723</td>\n",
       "      <td>923.1</td>\n",
       "    </tr>\n",
       "    <tr>\n",
       "      <th>36176</th>\n",
       "      <td>116564064</td>\n",
       "      <td>489.0</td>\n",
       "    </tr>\n",
       "    <tr>\n",
       "      <th>36177</th>\n",
       "      <td>135400225</td>\n",
       "      <td>1203.2</td>\n",
       "    </tr>\n",
       "    <tr>\n",
       "      <th>36178</th>\n",
       "      <td>135400225</td>\n",
       "      <td>1203.2</td>\n",
       "    </tr>\n",
       "    <tr>\n",
       "      <th>36179</th>\n",
       "      <td>135400225</td>\n",
       "      <td>1203.2</td>\n",
       "    </tr>\n",
       "  </tbody>\n",
       "</table>\n",
       "<p>36180 rows × 2 columns</p>\n",
       "</div>"
      ],
      "text/plain": [
       "         user_id     sum\n",
       "0      151603712   134.5\n",
       "1       87445402    87.7\n",
       "2       25096601   208.0\n",
       "3      211925330   848.0\n",
       "4      115396529   365.7\n",
       "...          ...     ...\n",
       "36175  154230723   923.1\n",
       "36176  116564064   489.0\n",
       "36177  135400225  1203.2\n",
       "36178  135400225  1203.2\n",
       "36179  135400225  1203.2\n",
       "\n",
       "[36180 rows x 2 columns]"
      ]
     },
     "metadata": {},
     "output_type": "display_data"
    },
    {
     "name": "stdout",
     "output_type": "stream",
     "text": [
      "Selected user: 14465359\n"
     ]
    }
   ],
   "source": [
    "# select a random user that has played more that minHours #JUST LIKE LAB1\n",
    "minHours = 500\n",
    "df['hours'] = df['hours'].str.replace(',', '.')\n",
    "df['hours'] = df['hours'].astype(float)\n",
    "users_ratings = df.groupby('user_id').hours.agg(['sum']).reindex(df.user_id).reset_index()\n",
    "#users_ratings = df.groupby('user_id').total.agg(['sum']).reindex(df.idx).reset_index()\n",
    "display(users_ratings)\n",
    "selected = users_ratings['sum'] > minHours\n",
    "\n",
    "selected_users = df.loc[selected]\n",
    "\n",
    "random_selected = selected_users.sample() \n",
    "select_column_df = random_selected.reset_index()['user_id'] \n",
    "selected_user = select_column_df.iloc[0] \n",
    "print(\"Selected user: \" + str(selected_user))"
   ]
  },
  {
   "cell_type": "code",
   "execution_count": 5,
   "metadata": {},
   "outputs": [],
   "source": [
    "def tokenization(text):\n",
    "    return text.split(\",\")"
   ]
  },
  {
   "cell_type": "code",
   "execution_count": 6,
   "metadata": {},
   "outputs": [],
   "source": [
    "#create a dataframe with the games and tags\n",
    "df1 = df.drop_duplicates(subset = [\"name\"])\n",
    "df1 = df1[[\"name\",\"popular_tags\"]].reset_index(drop=True)"
   ]
  },
  {
   "cell_type": "code",
   "execution_count": 7,
   "metadata": {},
   "outputs": [
    {
     "name": "stdout",
     "output_type": "stream",
     "text": [
      "Epoch: 0 1 2 3 4 5 6 7 8 9 10 11 12 13 14 15 16 17 18 19 20 21 22 23 24 25 26 27 28 29 30 31 32 33 34 35 36 37 38 39 40 41 42 43 44 45 46 47 48 49 "
     ]
    }
   ],
   "source": [
    "# tokenize the tags and create a doc2vec model\n",
    "tags_doc = [TaggedDocument(words=tokenization(tags), tags=[str(num)]) for num, tags in enumerate(df1.popular_tags.values)]\n",
    "max_epochs = 50\n",
    "alpha = 0.025\n",
    "\n",
    "model = Doc2Vec(alpha=alpha, \n",
    "                min_alpha=0.00025,\n",
    "                min_count=1,\n",
    "                dm=0)\n",
    "  \n",
    "model.build_vocab(tags_doc)\n",
    "\n",
    "# training the doc2vec model in 50 epochs\n",
    "print('Epoch', end = ': ')\n",
    "for epoch in range(max_epochs):\n",
    "\n",
    "  print(epoch, end = ' ')\n",
    "  \n",
    "  model.train(tags_doc,\n",
    "              total_examples=model.corpus_count,\n",
    "              epochs=model.epochs)\n",
    "\n",
    "  # decrease the learning rate\n",
    "  model.alpha -= 0.0002\n",
    "  # fix the learning rate, no decay\n",
    "  model.min_alpha = model.alpha"
   ]
  },
  {
   "cell_type": "code",
   "execution_count": 16,
   "metadata": {},
   "outputs": [
    {
     "name": "stdout",
     "output_type": "stream",
     "text": [
      "FRACT OSC\n",
      "Antichamber\n",
      "Kairo\n",
      "Thirty Flights of Loving\n",
      "The Beginner's Guide\n",
      "VVVVVV\n",
      "Proteus\n",
      "hocus\n",
      "Cubot\n",
      "Cradle\n"
     ]
    },
    {
     "name": "stderr",
     "output_type": "stream",
     "text": [
      "C:\\Users\\aysen\\anaconda3\\lib\\site-packages\\ipykernel_launcher.py:2: DeprecationWarning: Call to deprecated `docvecs` (The `docvecs` property has been renamed `dv`.).\n",
      "  \n"
     ]
    }
   ],
   "source": [
    "# example of how to recommend games based on a game\n",
    "tags_vectors = model.docvecs\n",
    "game = \"MirrorMoon EP\"\n",
    "game_index = df1[df1[\"name\"]==game].index.values[0]\n",
    "#print(tags_vectors[game_index])\n",
    "sims = model.dv.most_similar(positive = [game_index], topn = 10)\n",
    "\n",
    "for i, j in sims:\n",
    "  print(df1.loc[int(i), \"name\"].strip())"
   ]
  },
  {
   "cell_type": "code",
   "execution_count": 9,
   "metadata": {},
   "outputs": [],
   "source": [
    "games_played = df[['user_id','name','Rating M1','Rating M2' ]]\n",
    "games_played = games_played[games_played['user_id']==selected_user]\n",
    "games_played = games_played[games_played['Rating M1']>=4]\n",
    "user_games_played = list(games_played['name'])"
   ]
  },
  {
   "cell_type": "code",
   "execution_count": 15,
   "metadata": {},
   "outputs": [
    {
     "name": "stdout",
     "output_type": "stream",
     "text": [
      "Name of the game:  Fallout 3\n",
      "Cosine Similartiy:  0.6845253705978394\n",
      "------------\n",
      "Name of the game:  Alpha Prime\n",
      "Cosine Similartiy:  0.6770118474960327\n",
      "------------\n",
      "Name of the game:  Incoming Forces\n",
      "Cosine Similartiy:  0.6738431453704834\n",
      "------------\n",
      "Name of the game:  PlanetSide 2\n",
      "Cosine Similartiy:  0.670834481716156\n",
      "------------\n",
      "Name of the game:  Arma 2\n",
      "Cosine Similartiy:  0.6575676202774048\n",
      "------------\n",
      "Name of the game:  Saints Row 2\n",
      "Cosine Similartiy:  0.6522428393363953\n",
      "------------\n",
      "Name of the game:  Synergy\n",
      "Cosine Similartiy:  0.644849956035614\n",
      "------------\n",
      "Name of the game:  Genesis Rising\n",
      "Cosine Similartiy:  0.629848837852478\n",
      "------------\n",
      "Name of the game:  Gun Metal\n",
      "Cosine Similartiy:  0.6240363121032715\n",
      "------------\n",
      "Name of the game:  Eternal Silence\n",
      "Cosine Similartiy:  0.6215856075286865\n",
      "------------\n",
      "Name of the game:  Warface\n",
      "Cosine Similartiy:  0.6104673147201538\n",
      "------------\n",
      "Name of the game:  Lambda Wars Beta\n",
      "Cosine Similartiy:  0.6074230074882507\n",
      "------------\n",
      "Name of the game:  Iron Brigade\n",
      "Cosine Similartiy:  0.6014149188995361\n",
      "------------\n",
      "Name of the game:  Star Trek Online\n",
      "Cosine Similartiy:  0.5994902849197388\n",
      "------------\n"
     ]
    }
   ],
   "source": [
    "games_played = df[['user_id','name','Rating M1','Rating M2' ]]\n",
    "games_played = games_played[games_played['user_id']==selected_user]\n",
    "games_played = games_played[games_played['Rating M1']>=4]\n",
    "user_games_played = list(games_played['name'])\n",
    "\n",
    "# average vector of games played by the user\n",
    "user_games_vec = np.zeros(shape = tags_vectors.vector_size)\n",
    "for game in user_games_played:\n",
    "    game_index = df1[df1[\"name\"]==game].index.values[0]\n",
    "    user_games_vec += tags_vectors[game_index]\n",
    "\n",
    "# normalizing the vector    \n",
    "user_games_vec = user_games_vec/len(user_games_played)     \n",
    "# getting the most similar games of a user using the user vector\n",
    "games = model.dv.most_similar(positive = [user_games_vec], topn = 20)  \n",
    "for i, j in games:\n",
    "  game = df1.loc[int(i), \"name\"].strip()\n",
    "  if game not in user_games_played:\n",
    "    print('Name of the game: ', game)  # the name of the game that the user never played\n",
    "    print('Cosine Similartiy: ',j)\n",
    "    print(\"------------\")"
   ]
  },
  {
   "cell_type": "code",
   "execution_count": 11,
   "metadata": {},
   "outputs": [],
   "source": [
    "# creating random groups\n",
    "users_ratings = df.groupby(['user_id']).count()\n",
    "\n",
    "selected = users_ratings['Rating M1'] > 100\n",
    "\n",
    "selected_users = users_ratings.loc[selected]\n",
    "\n",
    "# sample() returns now n random rows from the dataframe. The returned object is a dataframe with five rows \n",
    "random_selected = selected_users.sample(n=5) \n",
    "\n",
    "# reset_index() create a new index, and the userId became a column. Then, we can filter using the column name\n",
    "select_column_df = random_selected.reset_index()['user_id'] \n",
    "\n",
    "# iloc select by index, since our dataframe only has one row we read it from the index 0\n",
    "group_users = list(select_column_df) \n",
    "\n",
    "group_ratings = df.loc[df['user_id'].isin(group_users)]\n",
    "\n",
    "all_games = set(df.index.tolist())\n",
    "\n",
    "num_ratings_df = df.groupby(['name']).count()\n",
    "\n",
    "considered_games = set(num_ratings_df.loc[num_ratings_df['user_id'] > 10].reset_index()['name'])\n",
    "\n",
    "group_seen_games = set(group_ratings['name'].tolist())\n",
    "\n",
    "group_unseen_games = considered_games - group_seen_games"
   ]
  },
  {
   "cell_type": "code",
   "execution_count": 14,
   "metadata": {},
   "outputs": [
    {
     "name": "stdout",
     "output_type": "stream",
     "text": [
      "The game \"The Kings' Crusade\" has been chosen since it achieves the highest rating score\n"
     ]
    }
   ],
   "source": [
    "# calculate vector for each user\n",
    "group_games_vec = np.zeros(shape = tags_vectors.vector_size)\n",
    "for user in group_users:\n",
    "  games_played = df[['user_id','name','Rating M1','Rating M2' ]]\n",
    "  games_played = games_played[games_played['user_id']==user]\n",
    "  games_played = games_played[games_played['Rating M1']>=4]\n",
    "  user_games_played = list(games_played['name'])\n",
    "  # average vector of games played by the user\n",
    "  user_games_vec = np.zeros(shape = tags_vectors.vector_size)\n",
    "  for game in user_games_played:\n",
    "      game_index = df1[df1[\"name\"]==game].index.values[0]\n",
    "      user_games_vec += tags_vectors[game_index]\n",
    "  # normalizing the vector    \n",
    "  user_games_vec = user_games_vec/len(user_games_played)\n",
    "  group_games_vec += user_games_vec    \n",
    "\n",
    "# normalize group vector\n",
    "group_games_vec = group_games_vec/len(group_users)\n",
    "  \n",
    "# getting the most similar games of a user using the user vector\n",
    "games = model.dv.most_similar(positive = [group_games_vec], topn = 1514)\n",
    "preferred_game = \"\"\n",
    "preferred_game_similarity = 0\n",
    "for i, j in games:\n",
    "  game = df1.loc[int(i), \"name\"].strip()\n",
    "  if game not in group_seen_games:\n",
    "    preferred_game = game\n",
    "    preferred_game_similarity = j\n",
    "    break\n",
    "  \n",
    "\n",
    "print(\"The game \\\"\" + preferred_game + \"\\\" has been chosen since it achieves the highest rating score\")"
   ]
  },
  {
   "cell_type": "code",
   "execution_count": null,
   "metadata": {},
   "outputs": [],
   "source": []
  }
 ],
 "metadata": {
  "interpreter": {
   "hash": "0adcc2737ebf6a4a119f135174df96668767fca1ef1112612db5ecadf2b6d608"
  },
  "kernelspec": {
   "display_name": "Python 3 (ipykernel)",
   "language": "python",
   "name": "python3"
  },
  "language_info": {
   "codemirror_mode": {
    "name": "ipython",
    "version": 3
   },
   "file_extension": ".py",
   "mimetype": "text/x-python",
   "name": "python",
   "nbconvert_exporter": "python",
   "pygments_lexer": "ipython3",
   "version": "3.7.6"
  }
 },
 "nbformat": 4,
 "nbformat_minor": 4
}
